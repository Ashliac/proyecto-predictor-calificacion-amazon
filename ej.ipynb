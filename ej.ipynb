{
 "cells": [
  {
   "cell_type": "code",
   "execution_count": 41,
   "metadata": {},
   "outputs": [],
   "source": [
    "import pandas as pd\n",
    "from sklearn.model_selection import train_test_split\n",
    "from sklearn.preprocessing import StandardScaler\n",
    "import matplotlib.pyplot as plt\n",
    "from sklearn.linear_model import LinearRegression  # Corrección aquí\n",
    "from sklearn.metrics import r2_score  # COEFICIENTE DE DETERMINACIÓN\n",
    "import numpy as np"
   ]
  },
  {
   "cell_type": "code",
   "execution_count": 42,
   "metadata": {},
   "outputs": [
    {
     "data": {
      "text/html": [
       "<div>\n",
       "<style scoped>\n",
       "    .dataframe tbody tr th:only-of-type {\n",
       "        vertical-align: middle;\n",
       "    }\n",
       "\n",
       "    .dataframe tbody tr th {\n",
       "        vertical-align: top;\n",
       "    }\n",
       "\n",
       "    .dataframe thead th {\n",
       "        text-align: right;\n",
       "    }\n",
       "</style>\n",
       "<table border=\"1\" class=\"dataframe\">\n",
       "  <thead>\n",
       "    <tr style=\"text-align: right;\">\n",
       "      <th></th>\n",
       "      <th>habitaciones</th>\n",
       "      <th>tamaño_m2</th>\n",
       "      <th>antigüedad_años</th>\n",
       "      <th>distancia_al_centro_km</th>\n",
       "      <th>precio</th>\n",
       "    </tr>\n",
       "  </thead>\n",
       "  <tbody>\n",
       "    <tr>\n",
       "      <th>0</th>\n",
       "      <td>2</td>\n",
       "      <td>50</td>\n",
       "      <td>10</td>\n",
       "      <td>5</td>\n",
       "      <td>150</td>\n",
       "    </tr>\n",
       "    <tr>\n",
       "      <th>1</th>\n",
       "      <td>3</td>\n",
       "      <td>75</td>\n",
       "      <td>15</td>\n",
       "      <td>7</td>\n",
       "      <td>200</td>\n",
       "    </tr>\n",
       "    <tr>\n",
       "      <th>2</th>\n",
       "      <td>4</td>\n",
       "      <td>100</td>\n",
       "      <td>20</td>\n",
       "      <td>10</td>\n",
       "      <td>250</td>\n",
       "    </tr>\n",
       "    <tr>\n",
       "      <th>3</th>\n",
       "      <td>5</td>\n",
       "      <td>120</td>\n",
       "      <td>25</td>\n",
       "      <td>12</td>\n",
       "      <td>300</td>\n",
       "    </tr>\n",
       "    <tr>\n",
       "      <th>4</th>\n",
       "      <td>3</td>\n",
       "      <td>80</td>\n",
       "      <td>18</td>\n",
       "      <td>6</td>\n",
       "      <td>220</td>\n",
       "    </tr>\n",
       "  </tbody>\n",
       "</table>\n",
       "</div>"
      ],
      "text/plain": [
       "   habitaciones  tamaño_m2  antigüedad_años  distancia_al_centro_km  precio\n",
       "0             2         50               10                       5     150\n",
       "1             3         75               15                       7     200\n",
       "2             4        100               20                      10     250\n",
       "3             5        120               25                      12     300\n",
       "4             3         80               18                       6     220"
      ]
     },
     "execution_count": 42,
     "metadata": {},
     "output_type": "execute_result"
    }
   ],
   "source": [
    "datos = pd.DataFrame({\n",
    "    'habitaciones': [2, 3, 4, 5, 3, 4, 2, 3, 5, 4],\n",
    "    'tamaño_m2': [50, 75, 100, 120, 80, 95, 60, 78, 130, 110],\n",
    "    'antigüedad_años': [10, 15, 20, 25, 18, 12, 8, 17, 30, 22],\n",
    "    'distancia_al_centro_km': [5, 7, 10, 12, 6, 8, 4, 9, 15, 11],\n",
    "    'precio': [150, 200, 250, 300, 220, 230, 160, 210, 310, 280]\n",
    "})\n",
    "datos.head()"
   ]
  },
  {
   "cell_type": "code",
   "execution_count": 43,
   "metadata": {},
   "outputs": [],
   "source": [
    "# VARIABLE DEP E IND\n",
    "vInd = datos[['habitaciones','tamaño_m2','distancia_al_centro_km', 'antigüedad_años']]\n",
    "vDep = datos[['precio']]"
   ]
  },
  {
   "cell_type": "code",
   "execution_count": 44,
   "metadata": {},
   "outputs": [],
   "source": [
    "from statsmodels.stats.outliers_influence import variance_inflation_factor\n",
    "from statsmodels.tools.tools import add_constant\n",
    "\n",
    "vConstante = add_constant(vInd)\n",
    "\n",
    "vif_datos = pd.DataFrame()\n",
    "\n",
    "vif_datos['Nombre variables'] = vConstante.columns\n",
    "\n",
    "vif_datos['VIF'] = [variance_inflation_factor(vConstante.values, i) for i in range(vConstante.shape[1])]"
   ]
  },
  {
   "cell_type": "code",
   "execution_count": 45,
   "metadata": {},
   "outputs": [
    {
     "name": "stdout",
     "output_type": "stream",
     "text": [
      "         Nombre variables        VIF\n",
      "0                   const  20.709748\n",
      "1            habitaciones  28.696359\n",
      "2               tamaño_m2  39.505117\n",
      "3  distancia_al_centro_km  14.035596\n",
      "4         antigüedad_años   9.123118\n"
     ]
    }
   ],
   "source": [
    "print(vif_datos)"
   ]
  },
  {
   "cell_type": "code",
   "execution_count": 47,
   "metadata": {},
   "outputs": [
    {
     "name": "stdout",
     "output_type": "stream",
     "text": [
      "         Nombre variables        VIF\n",
      "0               Constante   1.000000\n",
      "1            habitaciones  28.696359\n",
      "2               tamaño_m2  39.505117\n",
      "3  distancia_al_centro_km  14.035596\n",
      "4         antigüedad_años   9.123118\n"
     ]
    }
   ],
   "source": [
    "# 1. Estandarizar las variables independientes\n",
    "scaler = StandardScaler()\n",
    "vInd_estandarizado = scaler.fit_transform(vInd)\n",
    "\n",
    "# 2. Agregar una constante para el cálculo del VIF\n",
    "vConstante = add_constant(vInd_estandarizado)\n",
    "\n",
    "# 3. Crear el DataFrame para almacenar los valores de VIF\n",
    "vif_datos = pd.DataFrame()\n",
    "vif_datos['Nombre variables'] = ['Constante'] + list(vInd.columns)\n",
    "\n",
    "# 4. Calcular VIF para cada variable\n",
    "vif_datos['VIF'] = [variance_inflation_factor(vConstante, i) for i in range(vConstante.shape[1])]\n",
    "\n",
    "# Mostrar el resultado\n",
    "print(vif_datos)\n"
   ]
  }
 ],
 "metadata": {
  "kernelspec": {
   "display_name": "Python 3",
   "language": "python",
   "name": "python3"
  },
  "language_info": {
   "codemirror_mode": {
    "name": "ipython",
    "version": 3
   },
   "file_extension": ".py",
   "mimetype": "text/x-python",
   "name": "python",
   "nbconvert_exporter": "python",
   "pygments_lexer": "ipython3",
   "version": "3.11.4"
  }
 },
 "nbformat": 4,
 "nbformat_minor": 2
}
