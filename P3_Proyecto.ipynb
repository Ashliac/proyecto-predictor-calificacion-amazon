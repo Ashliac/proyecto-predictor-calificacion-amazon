{
 "cells": [
  {
   "cell_type": "markdown",
   "metadata": {},
   "source": [
    "## Dataset\n",
    "\n",
    "#### Este conjunto de datos analiza la relación entre la salud mental y diversos factores demográficos, de estilo de vida y relacionados con el trabajo. Contiene información sobre género, edad, presión laboral, satisfacción en el trabajo, duración del sueño, hábitos alimenticios, estrés financiero, horas de trabajo y varios indicadores de salud mental, como depresión, pensamientos suicidas e historial familiar de enfermedades mentales.\n",
    "\n",
    "##### El objetivo del dataset es ofrecer una comprensión más profunda de cómo las condiciones de vida y laborales afectan el bienestar mental, lo que lo hace ideal para análisis exploratorios, modelado predictivo e investigaciones estadísticas.\n",
    "\n"
   ]
  },
  {
   "cell_type": "markdown",
   "metadata": {},
   "source": [
    "## Librerias utilizadas"
   ]
  },
  {
   "cell_type": "code",
   "execution_count": 11,
   "metadata": {},
   "outputs": [],
   "source": [
    "import pandas as pd\n",
    "import matplotlib.pyplot as plt\n",
    "from sklearn.linear_model import LinearRegression\n",
    "from sklearn.model_selection import train_test_split\n",
    "from sklearn.metrics import r2_score\n",
    "import numpy as np"
   ]
  },
  {
   "cell_type": "markdown",
   "metadata": {},
   "source": [
    "### Leer dataset desde un archivo CSV\n"
   ]
  },
  {
   "cell_type": "code",
   "execution_count": 12,
   "metadata": {},
   "outputs": [
    {
     "data": {
      "text/html": [
       "<div>\n",
       "<style scoped>\n",
       "    .dataframe tbody tr th:only-of-type {\n",
       "        vertical-align: middle;\n",
       "    }\n",
       "\n",
       "    .dataframe tbody tr th {\n",
       "        vertical-align: top;\n",
       "    }\n",
       "\n",
       "    .dataframe thead th {\n",
       "        text-align: right;\n",
       "    }\n",
       "</style>\n",
       "<table border=\"1\" class=\"dataframe\">\n",
       "  <thead>\n",
       "    <tr style=\"text-align: right;\">\n",
       "      <th></th>\n",
       "      <th>Gender</th>\n",
       "      <th>Age</th>\n",
       "      <th>Work Pressure</th>\n",
       "      <th>Job Satisfaction</th>\n",
       "      <th>Sleep Duration</th>\n",
       "      <th>Dietary Habits</th>\n",
       "      <th>Have you ever had suicidal thoughts ?</th>\n",
       "      <th>Work Hours</th>\n",
       "      <th>Financial Stress</th>\n",
       "      <th>Family History of Mental Illness</th>\n",
       "      <th>Depression</th>\n",
       "    </tr>\n",
       "  </thead>\n",
       "  <tbody>\n",
       "    <tr>\n",
       "      <th>0</th>\n",
       "      <td>Female</td>\n",
       "      <td>37</td>\n",
       "      <td>2.0</td>\n",
       "      <td>4.0</td>\n",
       "      <td>7-8 hours</td>\n",
       "      <td>Moderate</td>\n",
       "      <td>No</td>\n",
       "      <td>6</td>\n",
       "      <td>2</td>\n",
       "      <td>No</td>\n",
       "      <td>No</td>\n",
       "    </tr>\n",
       "    <tr>\n",
       "      <th>1</th>\n",
       "      <td>Male</td>\n",
       "      <td>60</td>\n",
       "      <td>4.0</td>\n",
       "      <td>3.0</td>\n",
       "      <td>5-6 hours</td>\n",
       "      <td>Unhealthy</td>\n",
       "      <td>Yes</td>\n",
       "      <td>0</td>\n",
       "      <td>4</td>\n",
       "      <td>Yes</td>\n",
       "      <td>No</td>\n",
       "    </tr>\n",
       "    <tr>\n",
       "      <th>2</th>\n",
       "      <td>Female</td>\n",
       "      <td>42</td>\n",
       "      <td>2.0</td>\n",
       "      <td>3.0</td>\n",
       "      <td>5-6 hours</td>\n",
       "      <td>Moderate</td>\n",
       "      <td>No</td>\n",
       "      <td>0</td>\n",
       "      <td>2</td>\n",
       "      <td>No</td>\n",
       "      <td>No</td>\n",
       "    </tr>\n",
       "    <tr>\n",
       "      <th>3</th>\n",
       "      <td>Female</td>\n",
       "      <td>44</td>\n",
       "      <td>3.0</td>\n",
       "      <td>5.0</td>\n",
       "      <td>7-8 hours</td>\n",
       "      <td>Healthy</td>\n",
       "      <td>Yes</td>\n",
       "      <td>1</td>\n",
       "      <td>2</td>\n",
       "      <td>Yes</td>\n",
       "      <td>No</td>\n",
       "    </tr>\n",
       "    <tr>\n",
       "      <th>4</th>\n",
       "      <td>Male</td>\n",
       "      <td>48</td>\n",
       "      <td>4.0</td>\n",
       "      <td>3.0</td>\n",
       "      <td>7-8 hours</td>\n",
       "      <td>Moderate</td>\n",
       "      <td>Yes</td>\n",
       "      <td>6</td>\n",
       "      <td>5</td>\n",
       "      <td>Yes</td>\n",
       "      <td>No</td>\n",
       "    </tr>\n",
       "  </tbody>\n",
       "</table>\n",
       "</div>"
      ],
      "text/plain": [
       "   Gender  Age  Work Pressure  Job Satisfaction Sleep Duration Dietary Habits  \\\n",
       "0  Female   37            2.0               4.0      7-8 hours       Moderate   \n",
       "1    Male   60            4.0               3.0      5-6 hours      Unhealthy   \n",
       "2  Female   42            2.0               3.0      5-6 hours       Moderate   \n",
       "3  Female   44            3.0               5.0      7-8 hours        Healthy   \n",
       "4    Male   48            4.0               3.0      7-8 hours       Moderate   \n",
       "\n",
       "  Have you ever had suicidal thoughts ?  Work Hours  Financial Stress  \\\n",
       "0                                    No           6                 2   \n",
       "1                                   Yes           0                 4   \n",
       "2                                    No           0                 2   \n",
       "3                                   Yes           1                 2   \n",
       "4                                   Yes           6                 5   \n",
       "\n",
       "  Family History of Mental Illness Depression  \n",
       "0                               No         No  \n",
       "1                              Yes         No  \n",
       "2                               No         No  \n",
       "3                              Yes         No  \n",
       "4                              Yes         No  "
      ]
     },
     "execution_count": 12,
     "metadata": {},
     "output_type": "execute_result"
    }
   ],
   "source": [
    "dataset = pd.read_csv(rf'C:\\Users\\ashli\\OneDrive\\Escritorio\\LaSalle\\7TO\\MineríaDatos\\3P\\Depression_Professional_Dataset.csv')\n",
    "dataset.head()"
   ]
  },
  {
   "cell_type": "markdown",
   "metadata": {},
   "source": [
    "#### Este archivo cuenta con un total de 2054 registros y un total de 11 columnas"
   ]
  },
  {
   "cell_type": "code",
   "execution_count": 13,
   "metadata": {},
   "outputs": [
    {
     "name": "stdout",
     "output_type": "stream",
     "text": [
      "El dataset tiene 2054 registros y 11 columnas.\n"
     ]
    }
   ],
   "source": [
    "# Obtener el número de registros (filas) y columnas\n",
    "num_registros, num_columnas = dataset.shape\n",
    "\n",
    "# Imprimir los resultados\n",
    "print(f\"El dataset tiene {num_registros} registros y {num_columnas} columnas.\")"
   ]
  },
  {
   "cell_type": "markdown",
   "metadata": {},
   "source": [
    "## Limpieza de datos\n",
    "\n",
    "#### Manejo de valores faltantes"
   ]
  },
  {
   "cell_type": "code",
   "execution_count": 14,
   "metadata": {},
   "outputs": [
    {
     "name": "stdout",
     "output_type": "stream",
     "text": [
      "Valores faltantes por columna:\n",
      "Gender                                   0\n",
      "Age                                      0\n",
      "Work Pressure                            0\n",
      "Job Satisfaction                         0\n",
      "Sleep Duration                           0\n",
      "Dietary Habits                           0\n",
      "Have you ever had suicidal thoughts ?    0\n",
      "Work Hours                               0\n",
      "Financial Stress                         0\n",
      "Family History of Mental Illness         0\n",
      "Depression                               0\n",
      "dtype: int64\n",
      "Valores faltantes después de la limpieza:\n",
      "Gender                                   0\n",
      "Age                                      0\n",
      "Work Pressure                            0\n",
      "Job Satisfaction                         0\n",
      "Sleep Duration                           0\n",
      "Dietary Habits                           0\n",
      "Have you ever had suicidal thoughts ?    0\n",
      "Work Hours                               0\n",
      "Financial Stress                         0\n",
      "Family History of Mental Illness         0\n",
      "Depression                               0\n",
      "dtype: int64\n"
     ]
    },
    {
     "name": "stderr",
     "output_type": "stream",
     "text": [
      "C:\\Users\\ashli\\AppData\\Local\\Temp\\ipykernel_20200\\1096970811.py:6: FutureWarning: A value is trying to be set on a copy of a DataFrame or Series through chained assignment using an inplace method.\n",
      "The behavior will change in pandas 3.0. This inplace method will never work because the intermediate object on which we are setting values always behaves as a copy.\n",
      "\n",
      "For example, when doing 'df[col].method(value, inplace=True)', try using 'df.method({col: value}, inplace=True)' or df[col] = df[col].method(value) instead, to perform the operation inplace on the original object.\n",
      "\n",
      "\n",
      "  dataset['Age'].fillna(dataset['Age'].median(), inplace=True)  # Ejemplo con la mediana\n",
      "C:\\Users\\ashli\\AppData\\Local\\Temp\\ipykernel_20200\\1096970811.py:7: FutureWarning: A value is trying to be set on a copy of a DataFrame or Series through chained assignment using an inplace method.\n",
      "The behavior will change in pandas 3.0. This inplace method will never work because the intermediate object on which we are setting values always behaves as a copy.\n",
      "\n",
      "For example, when doing 'df[col].method(value, inplace=True)', try using 'df.method({col: value}, inplace=True)' or df[col] = df[col].method(value) instead, to perform the operation inplace on the original object.\n",
      "\n",
      "\n",
      "  dataset['Sleep Duration'].fillna('Unknown', inplace=True)    # Rellenar texto categórico\n",
      "C:\\Users\\ashli\\AppData\\Local\\Temp\\ipykernel_20200\\1096970811.py:8: FutureWarning: A value is trying to be set on a copy of a DataFrame or Series through chained assignment using an inplace method.\n",
      "The behavior will change in pandas 3.0. This inplace method will never work because the intermediate object on which we are setting values always behaves as a copy.\n",
      "\n",
      "For example, when doing 'df[col].method(value, inplace=True)', try using 'df.method({col: value}, inplace=True)' or df[col] = df[col].method(value) instead, to perform the operation inplace on the original object.\n",
      "\n",
      "\n",
      "  dataset['Job Satisfaction'].fillna(dataset['Job Satisfaction'].mean(), inplace=True)\n"
     ]
    }
   ],
   "source": [
    "\n",
    "# Identificar valores faltantes\n",
    "print(\"Valores faltantes por columna:\")\n",
    "print(dataset.isnull().sum())\n",
    "\n",
    "# Opción 1: Rellenar valores faltantes (imputación)\n",
    "dataset['Age'].fillna(dataset['Age'].median(), inplace=True)  # Ejemplo con la mediana\n",
    "dataset['Sleep Duration'].fillna('Unknown', inplace=True)    # Rellenar texto categórico\n",
    "dataset['Job Satisfaction'].fillna(dataset['Job Satisfaction'].mean(), inplace=True)\n",
    "\n",
    "\n",
    "\n",
    "# Verificar nuevamente\n",
    "print(\"Valores faltantes después de la limpieza:\")\n",
    "print(dataset.isnull().sum())"
   ]
  },
  {
   "cell_type": "markdown",
   "metadata": {},
   "source": [
    "#### Eliminacion de valores duplicados"
   ]
  },
  {
   "cell_type": "code",
   "execution_count": 15,
   "metadata": {},
   "outputs": [
    {
     "name": "stdout",
     "output_type": "stream",
     "text": [
      "Cantidad de filas duplicadas: 0\n",
      "Cantidad de filas después de eliminar duplicados: 0\n"
     ]
    }
   ],
   "source": [
    "# Verificar duplicados\n",
    "duplicados = dataset.duplicated().sum()\n",
    "print(f\"Cantidad de filas duplicadas: {duplicados}\")\n",
    "\n",
    "# Eliminar duplicados\n",
    "dataset = dataset.drop_duplicates()\n",
    "\n",
    "# Verificar si quedan duplicados\n",
    "print(f\"Cantidad de filas después de eliminar duplicados: {dataset.duplicated().sum()}\")\n"
   ]
  },
  {
   "cell_type": "markdown",
   "metadata": {},
   "source": [
    "#### Verificacion de inconsistencias "
   ]
  },
  {
   "cell_type": "code",
   "execution_count": 16,
   "metadata": {},
   "outputs": [
    {
     "name": "stdout",
     "output_type": "stream",
     "text": [
      "Valores únicos en 'Gender': ['Female' 'Male']\n",
      "Valores únicos en 'Sleep Duration': ['7-8 hours' '5-6 hours' 'More than 8 hours' 'Less than 5 hours']\n",
      "Valores únicos corregidos en 'Gender': ['Female' 'Male']\n",
      "Valores únicos corregidos en 'Sleep Duration': ['7-8 Hours' '5-6 Hours' 'More than 8 hours' 'Less than 5 hours']\n"
     ]
    }
   ],
   "source": [
    "# Verificar valores únicos en columnas categóricas para encontrar inconsistencias\n",
    "print(\"Valores únicos en 'Gender':\", dataset['Gender'].unique())\n",
    "print(\"Valores únicos en 'Sleep Duration':\", dataset['Sleep Duration'].unique())\n",
    "\n",
    "# Estandarizar texto en columnas categóricas\n",
    "dataset['Gender'] = dataset['Gender'].str.strip().str.capitalize()  # Limpiar espacios y uniformar formato\n",
    "dataset['Sleep Duration'] = dataset['Sleep Duration'].replace({\n",
    "    '7-8 hours': '7-8 Hours',\n",
    "    '5-6 hours': '5-6 Hours',\n",
    "    'Unknown': 'Unknown'\n",
    "})\n",
    "\n",
    "# Verificar nuevamente los valores únicos\n",
    "print(\"Valores únicos corregidos en 'Gender':\", dataset['Gender'].unique())\n",
    "print(\"Valores únicos corregidos en 'Sleep Duration':\", dataset['Sleep Duration'].unique())\n"
   ]
  },
  {
   "cell_type": "markdown",
   "metadata": {},
   "source": [
    "### Preparar entorno para guardar en dataset en una base de datos MySQL"
   ]
  },
  {
   "cell_type": "code",
   "execution_count": 17,
   "metadata": {},
   "outputs": [
    {
     "name": "stdout",
     "output_type": "stream",
     "text": [
      "Collecting pymysql\n",
      "  Downloading PyMySQL-1.1.1-py3-none-any.whl.metadata (4.4 kB)\n",
      "Downloading PyMySQL-1.1.1-py3-none-any.whl (44 kB)\n",
      "   ---------------------------------------- 0.0/45.0 kB ? eta -:--:--\n",
      "   ------------------------------------ --- 41.0/45.0 kB 1.9 MB/s eta 0:00:01\n",
      "   ---------------------------------------- 45.0/45.0 kB 739.0 kB/s eta 0:00:00\n",
      "Installing collected packages: pymysql\n",
      "Successfully installed pymysql-1.1.1\n"
     ]
    },
    {
     "name": "stderr",
     "output_type": "stream",
     "text": [
      "\n",
      "[notice] A new release of pip is available: 23.3.1 -> 24.3.1\n",
      "[notice] To update, run: python.exe -m pip install --upgrade pip\n"
     ]
    },
    {
     "name": "stdout",
     "output_type": "stream",
     "text": [
      "Collecting mysql-connector-python\n",
      "  Downloading mysql_connector_python-9.1.0-cp311-cp311-win_amd64.whl.metadata (6.2 kB)\n",
      "Downloading mysql_connector_python-9.1.0-cp311-cp311-win_amd64.whl (16.1 MB)\n",
      "   ---------------------------------------- 0.0/16.1 MB ? eta -:--:--\n",
      "   ---------------------------------------- 0.1/16.1 MB 1.6 MB/s eta 0:00:10\n",
      "    --------------------------------------- 0.2/16.1 MB 2.1 MB/s eta 0:00:08\n",
      "   - -------------------------------------- 0.4/16.1 MB 3.4 MB/s eta 0:00:05\n",
      "   -- ------------------------------------- 0.9/16.1 MB 5.2 MB/s eta 0:00:03\n",
      "   -- ------------------------------------- 1.2/16.1 MB 5.8 MB/s eta 0:00:03\n",
      "   ---- ----------------------------------- 1.6/16.1 MB 5.7 MB/s eta 0:00:03\n",
      "   ---- ----------------------------------- 1.8/16.1 MB 6.1 MB/s eta 0:00:03\n",
      "   ------ --------------------------------- 2.6/16.1 MB 7.3 MB/s eta 0:00:02\n",
      "   ------- -------------------------------- 3.1/16.1 MB 7.6 MB/s eta 0:00:02\n",
      "   -------- ------------------------------- 3.5/16.1 MB 7.8 MB/s eta 0:00:02\n",
      "   ---------- ----------------------------- 4.1/16.1 MB 8.3 MB/s eta 0:00:02\n",
      "   ----------- ---------------------------- 4.6/16.1 MB 8.3 MB/s eta 0:00:02\n",
      "   ------------ --------------------------- 5.0/16.1 MB 8.4 MB/s eta 0:00:02\n",
      "   ------------- -------------------------- 5.5/16.1 MB 8.7 MB/s eta 0:00:02\n",
      "   -------------- ------------------------- 6.0/16.1 MB 8.9 MB/s eta 0:00:02\n",
      "   ---------------- ----------------------- 6.5/16.1 MB 9.0 MB/s eta 0:00:02\n",
      "   ----------------- ---------------------- 6.9/16.1 MB 8.9 MB/s eta 0:00:02\n",
      "   ------------------ --------------------- 7.4/16.1 MB 9.1 MB/s eta 0:00:01\n",
      "   ------------------ --------------------- 7.4/16.1 MB 9.1 MB/s eta 0:00:01\n",
      "   ------------------- -------------------- 7.9/16.1 MB 8.9 MB/s eta 0:00:01\n",
      "   --------------------- ------------------ 8.6/16.1 MB 9.2 MB/s eta 0:00:01\n",
      "   ---------------------- ----------------- 9.0/16.1 MB 9.0 MB/s eta 0:00:01\n",
      "   ----------------------- ---------------- 9.5/16.1 MB 9.0 MB/s eta 0:00:01\n",
      "   ----------------------- ---------------- 9.6/16.1 MB 9.0 MB/s eta 0:00:01\n",
      "   ------------------------ --------------- 10.0/16.1 MB 8.9 MB/s eta 0:00:01\n",
      "   ------------------------- -------------- 10.3/16.1 MB 8.8 MB/s eta 0:00:01\n",
      "   -------------------------- ------------- 10.7/16.1 MB 9.4 MB/s eta 0:00:01\n",
      "   --------------------------- ------------ 11.1/16.1 MB 9.2 MB/s eta 0:00:01\n",
      "   ---------------------------- ----------- 11.5/16.1 MB 9.5 MB/s eta 0:00:01\n",
      "   ----------------------------- ---------- 11.9/16.1 MB 9.5 MB/s eta 0:00:01\n",
      "   ------------------------------ --------- 12.3/16.1 MB 9.5 MB/s eta 0:00:01\n",
      "   ------------------------------- -------- 12.8/16.1 MB 9.2 MB/s eta 0:00:01\n",
      "   -------------------------------- ------- 13.1/16.1 MB 9.2 MB/s eta 0:00:01\n",
      "   --------------------------------- ------ 13.5/16.1 MB 9.0 MB/s eta 0:00:01\n",
      "   ---------------------------------- ----- 13.9/16.1 MB 9.1 MB/s eta 0:00:01\n",
      "   ----------------------------------- ---- 14.3/16.1 MB 9.0 MB/s eta 0:00:01\n",
      "   ------------------------------------ --- 14.8/16.1 MB 9.0 MB/s eta 0:00:01\n",
      "   ------------------------------------- -- 15.2/16.1 MB 9.0 MB/s eta 0:00:01\n",
      "   ---------------------------------------  15.7/16.1 MB 8.8 MB/s eta 0:00:01\n",
      "   ---------------------------------------  16.0/16.1 MB 8.7 MB/s eta 0:00:01\n",
      "   ---------------------------------------  16.1/16.1 MB 8.7 MB/s eta 0:00:01\n",
      "   ---------------------------------------- 16.1/16.1 MB 8.4 MB/s eta 0:00:00\n",
      "Installing collected packages: mysql-connector-python\n",
      "Successfully installed mysql-connector-python-9.1.0\n"
     ]
    },
    {
     "name": "stderr",
     "output_type": "stream",
     "text": [
      "\n",
      "[notice] A new release of pip is available: 23.3.1 -> 24.3.1\n",
      "[notice] To update, run: python.exe -m pip install --upgrade pip\n"
     ]
    }
   ],
   "source": [
    "!pip install pymysql\n",
    "!pip install mysql-connector-python\n"
   ]
  },
  {
   "cell_type": "markdown",
   "metadata": {},
   "source": [
    "### Preparar conexion a MySQL desde Python"
   ]
  },
  {
   "cell_type": "code",
   "execution_count": 18,
   "metadata": {},
   "outputs": [
    {
     "ename": "RuntimeError",
     "evalue": "'cryptography' package is required for sha256_password or caching_sha2_password auth methods",
     "output_type": "error",
     "traceback": [
      "\u001b[1;31m---------------------------------------------------------------------------\u001b[0m",
      "\u001b[1;31mRuntimeError\u001b[0m                              Traceback (most recent call last)",
      "Cell \u001b[1;32mIn[18], line 4\u001b[0m\n\u001b[0;32m      1\u001b[0m \u001b[38;5;28;01mimport\u001b[39;00m \u001b[38;5;21;01mpymysql\u001b[39;00m \n\u001b[0;32m      3\u001b[0m \u001b[38;5;66;03m# Configuración de conexión\u001b[39;00m\n\u001b[1;32m----> 4\u001b[0m conn \u001b[38;5;241m=\u001b[39m \u001b[43mpymysql\u001b[49m\u001b[38;5;241;43m.\u001b[39;49m\u001b[43mconnect\u001b[49m\u001b[43m(\u001b[49m\n\u001b[0;32m      5\u001b[0m \u001b[43m    \u001b[49m\u001b[43mhost\u001b[49m\u001b[38;5;241;43m=\u001b[39;49m\u001b[38;5;124;43m'\u001b[39;49m\u001b[38;5;124;43mlocalhost\u001b[39;49m\u001b[38;5;124;43m'\u001b[39;49m\u001b[43m,\u001b[49m\u001b[43m           \u001b[49m\u001b[38;5;66;43;03m# Dirección del servidor MySQL \u001b[39;49;00m\n\u001b[0;32m      6\u001b[0m \u001b[43m    \u001b[49m\u001b[43muser\u001b[49m\u001b[38;5;241;43m=\u001b[39;49m\u001b[38;5;124;43m'\u001b[39;49m\u001b[38;5;124;43mroot\u001b[39;49m\u001b[38;5;124;43m'\u001b[39;49m\u001b[43m,\u001b[49m\u001b[43m          \u001b[49m\n\u001b[0;32m      7\u001b[0m \u001b[43m    \u001b[49m\u001b[43mpassword\u001b[49m\u001b[38;5;241;43m=\u001b[39;49m\u001b[38;5;124;43m'\u001b[39;49m\u001b[38;5;124;43mJJLovesU1!\u001b[39;49m\u001b[38;5;124;43m'\u001b[39;49m\u001b[43m,\u001b[49m\u001b[43m  \u001b[49m\n\u001b[0;32m      8\u001b[0m \u001b[43m    \u001b[49m\u001b[43mdatabase\u001b[49m\u001b[38;5;241;43m=\u001b[39;49m\u001b[38;5;124;43m'\u001b[39;49m\u001b[38;5;124;43mDepression_Professional\u001b[39;49m\u001b[38;5;124;43m'\u001b[39;49m\u001b[43m,\u001b[49m\u001b[43m \u001b[49m\n\u001b[0;32m      9\u001b[0m \u001b[43m    \u001b[49m\u001b[43mport\u001b[49m\u001b[38;5;241;43m=\u001b[39;49m\u001b[38;5;241;43m3306\u001b[39;49m\u001b[43m                   \u001b[49m\u001b[38;5;66;43;03m# Puerto (por defecto, 3306)\u001b[39;49;00m\n\u001b[0;32m     10\u001b[0m \u001b[43m)\u001b[49m\n\u001b[0;32m     12\u001b[0m cursor \u001b[38;5;241m=\u001b[39m conn\u001b[38;5;241m.\u001b[39mcursor()\n\u001b[0;32m     13\u001b[0m \u001b[38;5;28mprint\u001b[39m(\u001b[38;5;124m\"\u001b[39m\u001b[38;5;124mConexión exitosa a la base de datos\u001b[39m\u001b[38;5;124m\"\u001b[39m)\n",
      "File \u001b[1;32mc:\\Users\\ashli\\AppData\\Local\\Programs\\Python\\Python311\\Lib\\site-packages\\pymysql\\connections.py:361\u001b[0m, in \u001b[0;36mConnection.__init__\u001b[1;34m(self, user, password, host, database, unix_socket, port, charset, collation, sql_mode, read_default_file, conv, use_unicode, client_flag, cursorclass, init_command, connect_timeout, read_default_group, autocommit, local_infile, max_allowed_packet, defer_connect, auth_plugin_map, read_timeout, write_timeout, bind_address, binary_prefix, program_name, server_public_key, ssl, ssl_ca, ssl_cert, ssl_disabled, ssl_key, ssl_key_password, ssl_verify_cert, ssl_verify_identity, compress, named_pipe, passwd, db)\u001b[0m\n\u001b[0;32m    359\u001b[0m     \u001b[38;5;28mself\u001b[39m\u001b[38;5;241m.\u001b[39m_sock \u001b[38;5;241m=\u001b[39m \u001b[38;5;28;01mNone\u001b[39;00m\n\u001b[0;32m    360\u001b[0m \u001b[38;5;28;01melse\u001b[39;00m:\n\u001b[1;32m--> 361\u001b[0m     \u001b[38;5;28;43mself\u001b[39;49m\u001b[38;5;241;43m.\u001b[39;49m\u001b[43mconnect\u001b[49m\u001b[43m(\u001b[49m\u001b[43m)\u001b[49m\n",
      "File \u001b[1;32mc:\\Users\\ashli\\AppData\\Local\\Programs\\Python\\Python311\\Lib\\site-packages\\pymysql\\connections.py:669\u001b[0m, in \u001b[0;36mConnection.connect\u001b[1;34m(self, sock)\u001b[0m\n\u001b[0;32m    666\u001b[0m \u001b[38;5;28mself\u001b[39m\u001b[38;5;241m.\u001b[39m_next_seq_id \u001b[38;5;241m=\u001b[39m \u001b[38;5;241m0\u001b[39m\n\u001b[0;32m    668\u001b[0m \u001b[38;5;28mself\u001b[39m\u001b[38;5;241m.\u001b[39m_get_server_information()\n\u001b[1;32m--> 669\u001b[0m \u001b[38;5;28;43mself\u001b[39;49m\u001b[38;5;241;43m.\u001b[39;49m\u001b[43m_request_authentication\u001b[49m\u001b[43m(\u001b[49m\u001b[43m)\u001b[49m\n\u001b[0;32m    671\u001b[0m \u001b[38;5;66;03m# Send \"SET NAMES\" query on init for:\u001b[39;00m\n\u001b[0;32m    672\u001b[0m \u001b[38;5;66;03m# - Ensure charaset (and collation) is set to the server.\u001b[39;00m\n\u001b[0;32m    673\u001b[0m \u001b[38;5;66;03m#   - collation_id in handshake packet may be ignored.\u001b[39;00m\n\u001b[1;32m   (...)\u001b[0m\n\u001b[0;32m    682\u001b[0m \u001b[38;5;66;03m# - https://github.com/wagtail/wagtail/issues/9477\u001b[39;00m\n\u001b[0;32m    683\u001b[0m \u001b[38;5;66;03m# - https://zenn.dev/methane/articles/2023-mysql-collation (Japanese)\u001b[39;00m\n\u001b[0;32m    684\u001b[0m \u001b[38;5;28mself\u001b[39m\u001b[38;5;241m.\u001b[39mset_character_set(\u001b[38;5;28mself\u001b[39m\u001b[38;5;241m.\u001b[39mcharset, \u001b[38;5;28mself\u001b[39m\u001b[38;5;241m.\u001b[39mcollation)\n",
      "File \u001b[1;32mc:\\Users\\ashli\\AppData\\Local\\Programs\\Python\\Python311\\Lib\\site-packages\\pymysql\\connections.py:979\u001b[0m, in \u001b[0;36mConnection._request_authentication\u001b[1;34m(self)\u001b[0m\n\u001b[0;32m    977\u001b[0m \u001b[38;5;66;03m# https://dev.mysql.com/doc/internals/en/successful-authentication.html\u001b[39;00m\n\u001b[0;32m    978\u001b[0m \u001b[38;5;28;01mif\u001b[39;00m \u001b[38;5;28mself\u001b[39m\u001b[38;5;241m.\u001b[39m_auth_plugin_name \u001b[38;5;241m==\u001b[39m \u001b[38;5;124m\"\u001b[39m\u001b[38;5;124mcaching_sha2_password\u001b[39m\u001b[38;5;124m\"\u001b[39m:\n\u001b[1;32m--> 979\u001b[0m     auth_packet \u001b[38;5;241m=\u001b[39m \u001b[43m_auth\u001b[49m\u001b[38;5;241;43m.\u001b[39;49m\u001b[43mcaching_sha2_password_auth\u001b[49m\u001b[43m(\u001b[49m\u001b[38;5;28;43mself\u001b[39;49m\u001b[43m,\u001b[49m\u001b[43m \u001b[49m\u001b[43mauth_packet\u001b[49m\u001b[43m)\u001b[49m\n\u001b[0;32m    980\u001b[0m \u001b[38;5;28;01melif\u001b[39;00m \u001b[38;5;28mself\u001b[39m\u001b[38;5;241m.\u001b[39m_auth_plugin_name \u001b[38;5;241m==\u001b[39m \u001b[38;5;124m\"\u001b[39m\u001b[38;5;124msha256_password\u001b[39m\u001b[38;5;124m\"\u001b[39m:\n\u001b[0;32m    981\u001b[0m     auth_packet \u001b[38;5;241m=\u001b[39m _auth\u001b[38;5;241m.\u001b[39msha256_password_auth(\u001b[38;5;28mself\u001b[39m, auth_packet)\n",
      "File \u001b[1;32mc:\\Users\\ashli\\AppData\\Local\\Programs\\Python\\Python311\\Lib\\site-packages\\pymysql\\_auth.py:267\u001b[0m, in \u001b[0;36mcaching_sha2_password_auth\u001b[1;34m(conn, pkt)\u001b[0m\n\u001b[0;32m    264\u001b[0m     \u001b[38;5;28;01mif\u001b[39;00m DEBUG:\n\u001b[0;32m    265\u001b[0m         \u001b[38;5;28mprint\u001b[39m(conn\u001b[38;5;241m.\u001b[39mserver_public_key\u001b[38;5;241m.\u001b[39mdecode(\u001b[38;5;124m\"\u001b[39m\u001b[38;5;124mascii\u001b[39m\u001b[38;5;124m\"\u001b[39m))\n\u001b[1;32m--> 267\u001b[0m data \u001b[38;5;241m=\u001b[39m \u001b[43msha2_rsa_encrypt\u001b[49m\u001b[43m(\u001b[49m\u001b[43mconn\u001b[49m\u001b[38;5;241;43m.\u001b[39;49m\u001b[43mpassword\u001b[49m\u001b[43m,\u001b[49m\u001b[43m \u001b[49m\u001b[43mconn\u001b[49m\u001b[38;5;241;43m.\u001b[39;49m\u001b[43msalt\u001b[49m\u001b[43m,\u001b[49m\u001b[43m \u001b[49m\u001b[43mconn\u001b[49m\u001b[38;5;241;43m.\u001b[39;49m\u001b[43mserver_public_key\u001b[49m\u001b[43m)\u001b[49m\n\u001b[0;32m    268\u001b[0m pkt \u001b[38;5;241m=\u001b[39m _roundtrip(conn, data)\n",
      "File \u001b[1;32mc:\\Users\\ashli\\AppData\\Local\\Programs\\Python\\Python311\\Lib\\site-packages\\pymysql\\_auth.py:144\u001b[0m, in \u001b[0;36msha2_rsa_encrypt\u001b[1;34m(password, salt, public_key)\u001b[0m\n\u001b[0;32m    139\u001b[0m \u001b[38;5;250m\u001b[39m\u001b[38;5;124;03m\"\"\"Encrypt password with salt and public_key.\u001b[39;00m\n\u001b[0;32m    140\u001b[0m \n\u001b[0;32m    141\u001b[0m \u001b[38;5;124;03mUsed for sha256_password and caching_sha2_password.\u001b[39;00m\n\u001b[0;32m    142\u001b[0m \u001b[38;5;124;03m\"\"\"\u001b[39;00m\n\u001b[0;32m    143\u001b[0m \u001b[38;5;28;01mif\u001b[39;00m \u001b[38;5;129;01mnot\u001b[39;00m _have_cryptography:\n\u001b[1;32m--> 144\u001b[0m     \u001b[38;5;28;01mraise\u001b[39;00m \u001b[38;5;167;01mRuntimeError\u001b[39;00m(\n\u001b[0;32m    145\u001b[0m         \u001b[38;5;124m\"\u001b[39m\u001b[38;5;124m'\u001b[39m\u001b[38;5;124mcryptography\u001b[39m\u001b[38;5;124m'\u001b[39m\u001b[38;5;124m package is required for sha256_password or\u001b[39m\u001b[38;5;124m\"\u001b[39m\n\u001b[0;32m    146\u001b[0m         \u001b[38;5;241m+\u001b[39m \u001b[38;5;124m\"\u001b[39m\u001b[38;5;124m caching_sha2_password auth methods\u001b[39m\u001b[38;5;124m\"\u001b[39m\n\u001b[0;32m    147\u001b[0m     )\n\u001b[0;32m    148\u001b[0m message \u001b[38;5;241m=\u001b[39m _xor_password(password \u001b[38;5;241m+\u001b[39m \u001b[38;5;124mb\u001b[39m\u001b[38;5;124m\"\u001b[39m\u001b[38;5;130;01m\\0\u001b[39;00m\u001b[38;5;124m\"\u001b[39m, salt)\n\u001b[0;32m    149\u001b[0m rsa_key \u001b[38;5;241m=\u001b[39m serialization\u001b[38;5;241m.\u001b[39mload_pem_public_key(public_key, default_backend())\n",
      "\u001b[1;31mRuntimeError\u001b[0m: 'cryptography' package is required for sha256_password or caching_sha2_password auth methods"
     ]
    }
   ],
   "source": [
    "import pymysql \n",
    "\n",
    "# Configuración de conexión\n",
    "conn = pymysql.connect(\n",
    "    host='localhost',           # Dirección del servidor MySQL \n",
    "    user='root',          \n",
    "    password='JJLovesU1!',  \n",
    "    database='Depression_Professional', \n",
    "    port=3306                   # Puerto (por defecto, 3306)\n",
    ")\n",
    "\n",
    "cursor = conn.cursor()\n",
    "print(\"Conexión exitosa a la base de datos\")\n"
   ]
  },
  {
   "cell_type": "markdown",
   "metadata": {},
   "source": [
    "### Creacion de la tabla en MySQL para el dataset"
   ]
  },
  {
   "cell_type": "code",
   "execution_count": null,
   "metadata": {},
   "outputs": [
    {
     "name": "stdout",
     "output_type": "stream",
     "text": [
      "Tabla creada (o ya existía).\n"
     ]
    }
   ],
   "source": [
    "# Crear una tabla desde Python \n",
    "create_table_query = \"\"\"\n",
    "CREATE TABLE IF NOT EXISTS depression_data (\n",
    "    Gender VARCHAR(10),\n",
    "    Age INT,\n",
    "    Work_Pressure FLOAT,\n",
    "    Job_Satisfaction FLOAT,\n",
    "    Sleep_Duration VARCHAR(50), -- Por si hay textos más largos\n",
    "    Dietary_Habits VARCHAR(50), -- Igual que arriba\n",
    "    Suicidal_Thoughts VARCHAR(10), -- Para mayor flexibilidad\n",
    "    Work_Hours INT,\n",
    "    Financial_Stress FLOAT,\n",
    "    Family_History VARCHAR(10), -- Para valores como \"Yes/No\" con margen\n",
    "    Depression VARCHAR(10) -- Igualmente flexible\n",
    ");\n",
    "\n",
    "\"\"\"\n",
    "cursor.execute(create_table_query)\n",
    "print(\"Tabla creada (o ya existía).\")\n"
   ]
  },
  {
   "cell_type": "code",
   "execution_count": null,
   "metadata": {},
   "outputs": [
    {
     "name": "stdout",
     "output_type": "stream",
     "text": [
      "Index(['Gender', 'Age', 'Work Pressure', 'Job Satisfaction', 'Sleep Duration',\n",
      "       'Dietary Habits', 'Have you ever had suicidal thoughts ?', 'Work Hours',\n",
      "       'Financial Stress', 'Family History of Mental Illness', 'Depression'],\n",
      "      dtype='object')\n",
      "(2054, 11)\n"
     ]
    }
   ],
   "source": [
    "print(dataset.columns)\n",
    "print(dataset.shape)  # Número de filas y columnas\n"
   ]
  },
  {
   "cell_type": "markdown",
   "metadata": {},
   "source": [
    "### Insercion de los datos del dataset en la tabla"
   ]
  },
  {
   "cell_type": "code",
   "execution_count": null,
   "metadata": {},
   "outputs": [
    {
     "name": "stdout",
     "output_type": "stream",
     "text": [
      "Datos insertados exitosamente.\n"
     ]
    }
   ],
   "source": [
    "# Renombrar las columnas para coincidir con los nombres en la base de datos\n",
    "dataset = dataset.rename(columns={\n",
    "    'Have you ever had suicidal thoughts ?': 'Suicidal_Thoughts',\n",
    "    'Family History of Mental Illness': 'Family_History'\n",
    "})\n",
    "\n",
    "# Convertir el DataFrame a una lista de tuplas\n",
    "data_tuples = [tuple(row) for row in dataset.to_numpy()]\n",
    "\n",
    "# Query de inserción en la base de datos\n",
    "insert_query = \"\"\"\n",
    "INSERT INTO depression_data (Gender, Age, Work_Pressure, Job_Satisfaction, Sleep_Duration, \n",
    "                              Dietary_Habits, Suicidal_Thoughts, Work_Hours, \n",
    "                              Financial_Stress, Family_History, Depression)\n",
    "VALUES (%s, %s, %s, %s, %s, %s, %s, %s, %s, %s, %s);\n",
    "\"\"\"\n",
    "\n",
    "# Insertar los datos en lotes\n",
    "try:\n",
    "    cursor.executemany(insert_query, data_tuples)\n",
    "    conn.commit()\n",
    "    print(\"Datos insertados exitosamente.\")\n",
    "except pymysql.MySQLError as e:\n",
    "    print(f\"Error al insertar datos: {e}\")\n",
    "\n",
    "# Cerrar la conexión\n",
    "cursor.close()\n",
    "conn.close()\n"
   ]
  }
 ],
 "metadata": {
  "kernelspec": {
   "display_name": "Python 3",
   "language": "python",
   "name": "python3"
  },
  "language_info": {
   "codemirror_mode": {
    "name": "ipython",
    "version": 3
   },
   "file_extension": ".py",
   "mimetype": "text/x-python",
   "name": "python",
   "nbconvert_exporter": "python",
   "pygments_lexer": "ipython3",
   "version": "3.11.4"
  }
 },
 "nbformat": 4,
 "nbformat_minor": 2
}
